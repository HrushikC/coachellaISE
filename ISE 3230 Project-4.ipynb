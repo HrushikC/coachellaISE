{
 "cells": [
  {
   "cell_type": "code",
   "execution_count": 2,
   "id": "4e251edd",
   "metadata": {},
   "outputs": [
    {
     "name": "stdout",
     "output_type": "stream",
     "text": [
      "obj_func = \n",
      "34826172.02646001\n",
      "The amount of each ticket to be sold to maximize z = x = \n",
      "[12500. 18750. 31250.  6250. 12500. 18750.  8750.  3750.  5000.  2500.\n",
      "  3750.  1250.   312.]\n"
     ]
    }
   ],
   "source": [
    "import cvxpy as cp \n",
    "\n",
    "# Decision variables: \n",
    "x = cp.Variable(13, integer = True)\n",
    "\n",
    "# Objective function: \n",
    "obj_func = (183*x[0] + 199.66667*x[1] + 216.33333*x[2] \n",
    "+ 216.33333*x[3] + 233*x[4] + 249.66667*x[5] + 399.66667*x[6] + 466.33333*x[7] + 618.166667*x[8] + \n",
    "           808.166667*x[9] + 396.833335*x[10] + 591.833335*x[11] + 1614.33333*x[12])\n",
    "\n",
    "# Constraints: \n",
    "constraints = [] \n",
    "constraints.append(x[0] + x[1] + x[2] + x[3] + x[4] + x[5] + x[6] + x[7] <= 125000)\n",
    "constraints.append(x[0] >= 0)\n",
    "constraints.append(x[1] >= 0)\n",
    "constraints.append(x[2] >= 0)\n",
    "constraints.append(x[3] >= 0)\n",
    "constraints.append(x[4] >= 0)\n",
    "constraints.append(x[5] >= 0)\n",
    "constraints.append(x[6] >= 0)\n",
    "constraints.append(x[7] >= 0)\n",
    "constraints.append(x[8] >= 0)\n",
    "constraints.append(x[9] >= 0)\n",
    "constraints.append(x[10] >= 0)\n",
    "constraints.append(x[11] >= 0)\n",
    "constraints.append(x[12] >= 0)\n",
    "constraints.append(x[0] <= 12500)\n",
    "constraints.append(x[1] <= 18750)\n",
    "constraints.append(x[2] <= 31250)\n",
    "constraints.append(x[3] <= 6250)\n",
    "constraints.append(x[4] <= 12500)\n",
    "constraints.append(x[5] <= 18750)\n",
    "constraints.append(x[6] <= 8750)\n",
    "constraints.append(x[7] <= 3750)\n",
    "constraints.append(x[8] <= 5000)\n",
    "constraints.append(x[9] <= 2500)\n",
    "constraints.append(x[10] <= 3750)\n",
    "constraints.append(x[11] <= 1250)\n",
    "constraints.append(x[12] <= 312.5)\n",
    "\n",
    "# Solve: \n",
    "problem = cp.Problem(cp.Maximize(obj_func), constraints)\n",
    "problem.solve(solver = cp.GUROBI, verbose = False)\n",
    "print(\"obj_func = \")\n",
    "print(obj_func.value)\n",
    "print(\"The amount of each ticket to be sold to maximize z = x = \" )\n",
    "print(x.value)\n"
   ]
  },
  {
   "cell_type": "code",
   "execution_count": null,
   "id": "695146db",
   "metadata": {},
   "outputs": [],
   "source": []
  }
 ],
 "metadata": {
  "kernelspec": {
   "display_name": "Python 3 (ipykernel)",
   "language": "python",
   "name": "python3"
  },
  "language_info": {
   "codemirror_mode": {
    "name": "ipython",
    "version": 3
   },
   "file_extension": ".py",
   "mimetype": "text/x-python",
   "name": "python",
   "nbconvert_exporter": "python",
   "pygments_lexer": "ipython3",
   "version": "3.11.4"
  }
 },
 "nbformat": 4,
 "nbformat_minor": 5
}
