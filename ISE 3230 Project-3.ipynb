{
 "cells": [
  {
   "cell_type": "code",
   "execution_count": 2,
   "id": "4e251edd",
   "metadata": {},
   "outputs": [
    {
     "name": "stdout",
     "output_type": "stream",
     "text": [
      "Set parameter Username\n",
      "Academic license - for non-commercial use only - expires 2024-09-04\n",
      "obj_func = \n",
      "29687012.5\n",
      "The amount of each ticket to be sold to maximize z = x = \n",
      "[12500. 18750. 43750.  6250. 12500. 18750.  8750.  3750.]\n"
     ]
    }
   ],
   "source": [
    "import cvxpy as cp \n",
    "\n",
    "# Decision variables: \n",
    "x = cp.Variable(8, integer = True)\n",
    "\n",
    "# Objective function: \n",
    "obj_func = (183*x[0] + 199.66667*x[1] + 216.33333*x[2] \n",
    "+ 216.33333*x[3] + 233*x[4] + 249.66667*x[5] + 399.66667*x[6] + 466.33333*x[7])\n",
    "\n",
    "# Constraints: \n",
    "constraints = [] \n",
    "constraints.append(x[0] + x[1] + x[2] + x[3] + x[4] + x[5] + x[6] + x[7] <= 125000)\n",
    "constraints.append(x[0] >= 0)\n",
    "constraints.append(x[1] >= 0)\n",
    "constraints.append(x[2] >= 0)\n",
    "constraints.append(x[3] >= 0)\n",
    "constraints.append(x[4] >= 0)\n",
    "constraints.append(x[5] >= 0)\n",
    "constraints.append(x[6] >= 0)\n",
    "constraints.append(x[7] >= 0)\n",
    "constraints.append(x[0] <= 12500)\n",
    "constraints.append(x[1] <= 18750)\n",
    "constraints.append(x[2] <= 43750)\n",
    "constraints.append(x[3] <= 6250)\n",
    "constraints.append(x[4] <= 12500)\n",
    "constraints.append(x[5] <= 18750)\n",
    "constraints.append(x[6] <= 8750)\n",
    "constraints.append(x[7] <= 3750)\n",
    "\n",
    "# Solve: \n",
    "problem = cp.Problem(cp.Maximize(obj_func), constraints)\n",
    "problem.solve(solver = cp.GUROBI, verbose = False)\n",
    "print(\"obj_func = \")\n",
    "print(obj_func.value)\n",
    "print(\"The amount of each ticket to be sold to maximize z = x = \" )\n",
    "print(x.value)\n"
   ]
  }
 ],
 "metadata": {
  "kernelspec": {
   "display_name": "Python 3 (ipykernel)",
   "language": "python",
   "name": "python3"
  },
  "language_info": {
   "codemirror_mode": {
    "name": "ipython",
    "version": 3
   },
   "file_extension": ".py",
   "mimetype": "text/x-python",
   "name": "python",
   "nbconvert_exporter": "python",
   "pygments_lexer": "ipython3",
   "version": "3.11.4"
  }
 },
 "nbformat": 4,
 "nbformat_minor": 5
}
