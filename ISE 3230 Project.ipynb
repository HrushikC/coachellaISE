{
 "cells": [
  {
   "cell_type": "code",
   "execution_count": 1,
   "id": "4e251edd",
   "metadata": {},
   "outputs": [
    {
     "name": "stdout",
     "output_type": "stream",
     "text": [
      "Set parameter Username\n",
      "Academic license - for non-commercial use only - expires 2024-09-04\n",
      "obj_func = \n",
      "174875000.0\n",
      "x = \n",
      "[    -0.     -0.     -0.     -0.     -0.     -0. 125000.]\n"
     ]
    }
   ],
   "source": [
    "import cvxpy as cp \n",
    "\n",
    "# Decision variables: \n",
    "x = cp.Variable(7, integer = True)\n",
    "\n",
    "# Objective function: \n",
    "obj_func = (549*x[0] + 599*x[1] + 649 *x[2] \n",
    "+ 699*x[3] + 749*x[4] + 1199*x[5] + 1399*x[6])\n",
    "\n",
    "# Constraints: \n",
    "constraints = [] \n",
    "constraints.append(x[0] + x[1] + x[2] + x[3] + x[4] + x[5] + x[6] <= 125000)\n",
    "constraints.append(x[0] >= 0)\n",
    "constraints.append(x[1] >= 0)\n",
    "constraints.append(x[2] >= 0)\n",
    "constraints.append(x[3] >= 0)\n",
    "constraints.append(x[4] >= 0)\n",
    "constraints.append(x[5] >= 0)\n",
    "constraints.append(x[6] >= 0)\n",
    "\n",
    "# Solve: \n",
    "problem = cp.Problem(cp.Maximize(obj_func), constraints)\n",
    "problem.solve(solver = cp.GUROBI, verbose = False)\n",
    "print(\"obj_func = \")\n",
    "print(obj_func.value)\n",
    "print(\"x = \")\n",
    "print(x.value)\n"
   ]
  },
  {
   "cell_type": "code",
   "execution_count": null,
   "id": "f09208df",
   "metadata": {},
   "outputs": [],
   "source": []
  }
 ],
 "metadata": {
  "kernelspec": {
   "display_name": "Python 3 (ipykernel)",
   "language": "python",
   "name": "python3"
  },
  "language_info": {
   "codemirror_mode": {
    "name": "ipython",
    "version": 3
   },
   "file_extension": ".py",
   "mimetype": "text/x-python",
   "name": "python",
   "nbconvert_exporter": "python",
   "pygments_lexer": "ipython3",
   "version": "3.11.4"
  }
 },
 "nbformat": 4,
 "nbformat_minor": 5
}
